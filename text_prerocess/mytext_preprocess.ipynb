{
 "cells": [
  {
   "cell_type": "code",
   "execution_count": 65,
   "id": "0f0e942c",
   "metadata": {},
   "outputs": [],
   "source": [
    "from konlpy.tag import Komoran\n",
    "import pickle\n",
    "import re\n",
    "import pandas as pd"
   ]
  },
  {
   "cell_type": "code",
   "execution_count": 66,
   "id": "5913cde8",
   "metadata": {},
   "outputs": [
    {
     "name": "stdout",
     "output_type": "stream",
     "text": [
      "[('6', 'SN'), ('개월', 'NNB'), ('간', 'NNB'), ('올라오', 'VV'), ('ㄴ', 'ETM'), ('블랙', 'NNP'), ('핑크', 'NNP'), ('영상', 'NNP'), ('찾', 'VV'), ('아', 'EC'), ('주', 'VX'), ('어', 'EF'), ('.', 'SF')]\n"
     ]
    }
   ],
   "source": [
    "#사용자 단어사전 구축 전\n",
    "komoran = Komoran()\n",
    "text = \"6개월간 올라온 블랙핑크 영상 찾아줘.\"\n",
    "pos = komoran.pos(text)\n",
    "\n",
    "print(pos)"
   ]
  },
  {
   "cell_type": "markdown",
   "id": "8a86aaf5",
   "metadata": {},
   "source": [
    "## 위의 결과에서 \n",
    "## 1. '6개월'을 기간 키워드로\n",
    "## 2. '블랙' 과 '핑크'로 분리된 결과를 '블랙핑크' 한 단어 키워드로\n",
    "## 3. NNP(대명사)로 분류된 키워드 중 '블랙핑크'만 주제 키워드로 가져와야 한다. "
   ]
  },
  {
   "cell_type": "code",
   "execution_count": 72,
   "id": "4686d2c4",
   "metadata": {},
   "outputs": [],
   "source": [
    "\n",
    "class Preprocess_text:\n",
    "\t# 생성자\n",
    "\tdef __init__(self, word2index_dic=\"\", userdic=\"\"): \n",
    "\t\t# 단어 인덱스 사전 불러오기\n",
    "\t\tif word2index_dic != \"\":\n",
    "\t\t\tf = open(word2index_dic, \"rb\")\n",
    "\t\t\tself.word_index = pickle.load(f)\n",
    "\t\t\tf.close()\n",
    "\t\telse:\n",
    "\t\t\tself.word_index = None\n",
    "\n",
    "\t\t# 형태소 분석기 초기화\n",
    "\t\tself.komoran = Komoran(userdic=userdic)\n",
    "        \n",
    "\n",
    "\t\t# 제외할 품사\n",
    "\t\t# 참조: https://docs.komoran.kr/firststep/postypes.html\n",
    "\t\tself.exclusion_tags = [\n",
    "\t\t\t\"JKS\", \"JKC\", \"JKG\", \"JKO\", \"JKB\", \"JKV\", \"JKQ\", \"JX\", \"JC\", # 관계언 제거\n",
    "\t\t\t\"SF\", \"SP\", \"SS\", \"SE\", \"SO\", # 기호 제거\n",
    "\t\t\t\"EP\", \"EF\", \"EC\", \"ETN\", \"ETM\", # 어미 제거\n",
    "\t\t\t\"XSN\", \"XSV\", \"XSA\", # 접미사 제거 \n",
    "\t\t]\n",
    "        \n",
    "        \n",
    "        \n",
    "\n",
    "\t# 형태소 분석기 POS tagger (래퍼 함수)\n",
    "\tdef pos(self, sentence):\n",
    "\t\treturn self.komoran.pos(sentence)\n",
    "\n",
    "\t# 불용어 제거 후 필요한 품사 정보만 가져오기\n",
    "\tdef get_keywords(self, pos, without_tag=False):\n",
    "\t\tf = lambda x: x in self.exclusion_tags\n",
    "\t\tword_list = []\n",
    "\t\tfor p in pos:\n",
    "\t\t\tif f(p[1]) is False: # 불용어 리스트에 없는 경우에만 저장\n",
    "\t\t\t\tword_list.append(p if without_tag is False else p[0])\n",
    "\t\treturn word_list\n",
    "\n",
    "\n",
    "def get_duration_keywords(self, pos):\n",
    "    #기간 키워드 추출 결과 저장 리스트 초기화\n",
    "    #duration_keywords=[]\n",
    "    keyword_pattern = r'(\\d+년|\\d+개월|최근)'\n",
    "    \n",
    "    #duration_keywords = [word for word, pos_tag in pos if pos_tag == 'NNBC']\n",
    "    for word,pos_tag in pos:\n",
    "            duration_keyword = re.findall(keyword_pattern, word)\n",
    "            if duration_keyword:\n",
    "                #duration_keywords.append(duration_keyword[0])\n",
    "                duration_keywords=duration_keyword[0]\n",
    "                \n",
    "    \n",
    "    print(\"기간 키워드:\", duration_keywords)\n",
    "    return duration_keywords\n",
    "\n",
    "#주제 키워드 추출 메소드 작성\n",
    "def get_title_keywords(self, pos_tag,stopdic='',duration_keywords=''):\n",
    "    nnp_keywords=[]\n",
    "    stop_keywords=[]\n",
    "    duration_keywords=duration_keywords\n",
    "    for word_tag in pos_tag:\n",
    "        if word_tag[1] == 'NNP':\n",
    "            nnp_keywords.append(word_tag[0])\n",
    "    #고유명사 키워드 리스트에서 기간 키워드 제외\n",
    "    if duration_keywords in nnp_keywords:\n",
    "        nnp_keywords.remove(duration_keywords)\n",
    "    print(\"추출된 고유명사:\", nnp_keywords)\n",
    "    \n",
    "    #불용어 사전 불러오기\n",
    "    if stopdic!=\"\":\n",
    "        stopwords_path = stopdic\n",
    "        with open(stopwords_path, 'r', encoding='utf-8') as file:\n",
    "            #BOM문자,개행문자 제거\n",
    "            stop_keywords =[line.strip('\\ufeff') for line in file.readlines()]\n",
    "            stop_keywords =[l.strip() for l in stop_keywords]\n",
    "\n",
    "    print(\"불용어 키워드:\", stop_keywords)\n",
    "    #고유명사 키워드에서 불용어 키워드 제외_주제 키워드만 남김\n",
    "    for stop_word in stop_keywords:\n",
    "        if stop_word in nnp_keywords:\n",
    "            nnp_keywords.remove(stop_word)\n",
    "            #print(\"제거된 불용어 키워드:\", stop_word)\n",
    "     \n",
    "    print(\"추출된 주제 키워드:\", nnp_keywords)\n",
    "    return nnp_keywords\n",
    "    \n",
    "# Preprocess 클래스에 메서드를 추가\n",
    "Preprocess_text.get_duration_keywords = get_duration_keywords\n",
    "Preprocess_text.get_title_keywords =get_title_keywords\n",
    "    \n",
    "    "
   ]
  },
  {
   "cell_type": "code",
   "execution_count": 4,
   "id": "c1e47979",
   "metadata": {},
   "outputs": [
    {
     "name": "stdout",
     "output_type": "stream",
     "text": [
      "['최근']\n"
     ]
    }
   ],
   "source": [
    "#정규표현식으로 기간 키워드 찾기\n",
    "sentence = \"6개월간 올라온 블랙핑크 영상 찾아줘\"\n",
    "sentence2 = \"1년간 올라온 블랙핑크 영상 찾아줘\"\n",
    "sentence3 = \"최근 올라온 블랙핑크 영상 찾아줘\"\n",
    "\n",
    "\n",
    "# 정규 표현식을 사용하여 기간 키워드를 추출합니다.\n",
    "keyword_pattern = r'(\\d+개월|\\d+년|최근)'\n",
    "\n",
    "# 정규 표현식과 매칭되는 부분을 찾습니다.\n",
    "matches = re.findall(keyword_pattern, sentence)\n",
    "matches = re.findall(keyword_pattern, sentence2)\n",
    "matches = re.findall(keyword_pattern, sentence3)\n",
    "\n",
    "# 매칭된 결과를 출력합니다.\n",
    "print(matches)\n",
    "#print(matches2)\n",
    "#print(matches3)\n"
   ]
  },
  {
   "cell_type": "code",
   "execution_count": 14,
   "id": "e8a74892",
   "metadata": {},
   "outputs": [
    {
     "name": "stdout",
     "output_type": "stream",
     "text": [
      "﻿영상\n",
      "데이터\n"
     ]
    }
   ],
   "source": [
    "#불용어사전\n",
    "stopwords_path = 'stopwords.txt'\n",
    "with open(stopwords_path, 'r', encoding='utf-8') as file:\n",
    "    stopwords = file.read()\n",
    "    \n",
    "# 불용어 사전 내용 출력\n",
    "print(stopwords)"
   ]
  },
  {
   "cell_type": "code",
   "execution_count": 6,
   "id": "43c87319",
   "metadata": {},
   "outputs": [
    {
     "name": "stdout",
     "output_type": "stream",
     "text": [
      "﻿블핑\tNNP\n",
      "블랙핑크\tNNP\n",
      "블랙 핑크\tNNP\n",
      "6개월\tNNP\n",
      "blackpink\tNNP\n"
     ]
    }
   ],
   "source": [
    "# 파일 경로 설정\n",
    "#file_path = 'C:\\\\Users\\\\user\\\\Desktop\\\\nlpToDf\\\\user_dic_test.txt'\n",
    "file_path = 'C:\\\\Users\\\\user\\\\Desktop\\\\nlpToDf\\\\user_dic.tsv'\n",
    "# 파일 읽기\n",
    "with open(file_path, 'r', encoding='utf-8') as file:\n",
    "    content = file.read()\n",
    "\n",
    "# 읽어온 내용 출력\n",
    "print(content)\n",
    "\n"
   ]
  },
  {
   "cell_type": "code",
   "execution_count": 73,
   "id": "db0c0967",
   "metadata": {},
   "outputs": [
    {
     "name": "stdout",
     "output_type": "stream",
     "text": [
      "형태소 추출/품사태깅: [('6개월', 'NNP'), ('간', 'NNB'), ('올라오', 'VV'), ('블랙핑크', 'NNP'), ('영상', 'NNP'), ('찾', 'VV'), ('주', 'VX')]\n",
      "형태소 추출: ['6개월', '간', '올라오', '블랙핑크', '영상', '찾', '주']\n",
      "기간 키워드: 6개월\n",
      "추출된 고유명사: ['블랙핑크', '영상']\n",
      "불용어 키워드: ['영상', '데이터']\n",
      "추출된 주제 키워드: ['블랙핑크']\n",
      "  period title\n",
      "0    6개월  블랙핑크\n"
     ]
    }
   ],
   "source": [
    "\n",
    "#sent = \"최근 올라온 블랙핑크 영상 찾아줘\"\n",
    "sent = \"6개월간 올라온 블랙핑크 영상 찾아줘\"\n",
    "\n",
    "# 전처리 객체 생성\n",
    "#p = Preprocess(userdic='../utils/user_dic.tsv')\n",
    "#komoran.setUserDic(\"user_dic.tsv\");\n",
    "p = Preprocess_text(userdic='user_dic.tsv')\n",
    "#p = Preprocess()\n",
    "\n",
    "# 형태소 분석기 실행\n",
    "pos = p.pos(sent)\n",
    "\n",
    "# 품사 태그와 같이 키워드 출력\n",
    "ret = p.get_keywords(pos, without_tag=False)\n",
    "print(\"형태소 추출/품사태깅:\",ret)\n",
    "\n",
    "# 품사 태그 없이 키워드 출력\n",
    "ret = p.get_keywords(pos, without_tag=True)\n",
    "print(\"형태소 추출:\",ret)\n",
    "\n",
    "duration_keywords = p.get_duration_keywords(pos)\n",
    "\n",
    "title_keywords = p.get_title_keywords(pos,stopdic='stopwords.txt',duration_keywords=duration_keywords)\n",
    "\n",
    "#추출한 키워드 df생성\n",
    "for keyword in title_keywords:\n",
    "    title_keywords_all=' '.join(title_keywords)\n",
    "\n",
    "df = pd.DataFrame({'period': [duration_keywords], \\\n",
    "        'title': title_keywords_all})\n",
    "print(df)"
   ]
  },
  {
   "cell_type": "code",
   "execution_count": 69,
   "id": "b06e0dbb",
   "metadata": {},
   "outputs": [
    {
     "name": "stdout",
     "output_type": "stream",
     "text": [
      "형태소 추출/품사태깅: [('최근', 'NNG'), ('올라오', 'VV'), ('blackpink', 'NNP'), ('데이터', 'NNG'), ('찾', 'VV'), ('주', 'VX')]\n",
      "형태소 추출: ['최근', '올라오', 'blackpink', '데이터', '찾', '주']\n",
      "기간 키워드: 최근\n",
      "추출된 고유명사: ['blackpink']\n",
      "불용어 키워드: []\n",
      "추출된 주제 키워드: ['blackpink']\n"
     ]
    }
   ],
   "source": [
    "sent2 = \"최근 올라온 blackpink 데이터 찾아줘\"\n",
    "\n",
    "# 전처리 객체 생성\n",
    "#p = Preprocess(userdic='../utils/user_dic.tsv')\n",
    "p = Preprocess_text(userdic='user_dic.tsv')\n",
    "\n",
    "# 형태소 분석기 실행\n",
    "pos_tag = p.pos(sent2)\n",
    "\n",
    "# 품사 태그와 같이 키워드 출력\n",
    "ret = p.get_keywords(pos_tag, without_tag=False)\n",
    "print(\"형태소 추출/품사태깅:\",ret)\n",
    "\n",
    "# 품사 태그 없이 키워드 출력\n",
    "ret = p.get_keywords(pos_tag, without_tag=True)\n",
    "print(\"형태소 추출:\",ret)\n",
    "\n",
    "#기간 키워드 출력\n",
    "duration_keywords = p.get_duration_keywords(pos_tag)\n",
    "#print(\"기간 키워드2:\", duration_keywords)\n",
    "\n",
    "nnp_keywords = p.get_title_keywords(pos_tag)\n",
    "\n"
   ]
  },
  {
   "cell_type": "code",
   "execution_count": 9,
   "id": "22d0a0db",
   "metadata": {},
   "outputs": [
    {
     "name": "stdout",
     "output_type": "stream",
     "text": [
      "  period      title\n",
      "0     최근  blackpink\n"
     ]
    }
   ],
   "source": [
    "#기간 키워드와 주제 키워드를 df로 저장\n",
    "\n",
    "\n",
    "df1 = pd.DataFrame({'period': [duration_keywords], \\\n",
    "        'title': nnp_keywords})\n",
    "print(df1)"
   ]
  },
  {
   "cell_type": "code",
   "execution_count": null,
   "id": "a88a7b20",
   "metadata": {},
   "outputs": [],
   "source": []
  }
 ],
 "metadata": {
  "kernelspec": {
   "display_name": "Python 3 (ipykernel)",
   "language": "python",
   "name": "python3"
  },
  "language_info": {
   "codemirror_mode": {
    "name": "ipython",
    "version": 3
   },
   "file_extension": ".py",
   "mimetype": "text/x-python",
   "name": "python",
   "nbconvert_exporter": "python",
   "pygments_lexer": "ipython3",
   "version": "3.8.16"
  }
 },
 "nbformat": 4,
 "nbformat_minor": 5
}
