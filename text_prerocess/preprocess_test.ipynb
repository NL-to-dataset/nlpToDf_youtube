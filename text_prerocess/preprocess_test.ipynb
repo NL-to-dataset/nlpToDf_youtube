{
 "cells": [
  {
   "cell_type": "code",
   "execution_count": 1,
   "id": "6a988885",
   "metadata": {},
   "outputs": [
    {
     "name": "stdout",
     "output_type": "stream",
     "text": [
      "importing Jupyter notebook from mytext_preprocess.ipynb\n",
      "[('6', 'SN'), ('개월', 'NNB'), ('간', 'NNB'), ('올라오', 'VV'), ('ㄴ', 'ETM'), ('블랙', 'NNP'), ('핑크', 'NNP'), ('영상', 'NNP'), ('찾', 'VV'), ('아', 'EC'), ('주', 'VX'), ('어', 'EF'), ('.', 'SF')]\n",
      "['최근']\n",
      "﻿영상\n",
      "데이터\n",
      "﻿블핑\tNNP\n",
      "블랙핑크\tNNP\n",
      "블랙 핑크\tNNP\n",
      "6개월\tNNP\n",
      "blackpink\tNNP\n",
      "형태소 추출/품사태깅: [('6개월', 'NNP'), ('간', 'NNB'), ('올라오', 'VV'), ('블랙핑크', 'NNP'), ('영상', 'NNP'), ('찾', 'VV'), ('주', 'VX')]\n",
      "형태소 추출: ['6개월', '간', '올라오', '블랙핑크', '영상', '찾', '주']\n",
      "기간 키워드: 6개월\n",
      "추출된 고유명사: ['블랙핑크', '영상']\n",
      "불용어 키워드: ['영상', '데이터']\n",
      "추출된 주제 키워드: ['블랙핑크']\n",
      "  period title\n",
      "0    6개월  블랙핑크\n",
      "형태소 추출/품사태깅: [('최근', 'NNG'), ('올라오', 'VV'), ('blackpink', 'NNP'), ('데이터', 'NNG'), ('찾', 'VV'), ('주', 'VX')]\n",
      "형태소 추출: ['최근', '올라오', 'blackpink', '데이터', '찾', '주']\n",
      "기간 키워드: 최근\n",
      "추출된 고유명사: ['blackpink']\n",
      "불용어 키워드: []\n",
      "추출된 주제 키워드: ['blackpink']\n",
      "  period      title\n",
      "0     최근  blackpink\n"
     ]
    }
   ],
   "source": [
    "import import_ipynb\n",
    "import mytext_preprocess"
   ]
  },
  {
   "cell_type": "code",
   "execution_count": 2,
   "id": "8c2ee2e1",
   "metadata": {},
   "outputs": [],
   "source": [
    "import pandas as pd"
   ]
  },
  {
   "cell_type": "code",
   "execution_count": 3,
   "id": "aac9cbec",
   "metadata": {},
   "outputs": [],
   "source": [
    "from mytext_preprocess import Preprocess_text"
   ]
  },
  {
   "cell_type": "code",
   "execution_count": 4,
   "id": "c530c50a",
   "metadata": {},
   "outputs": [
    {
     "name": "stdout",
     "output_type": "stream",
     "text": [
      "형태소 추출/품사태깅: [('1년', 'NNP'), ('간', 'NNB'), ('올라오', 'VV'), ('블랙핑크', 'NNP'), ('영상', 'NNP'), ('찾', 'VV'), ('주', 'VX')]\n",
      "기간 키워드: 1년\n",
      "추출된 고유명사: ['블랙핑크', '영상']\n",
      "불용어 키워드: ['영상', '데이터']\n",
      "추출된 주제 키워드: ['블랙핑크']\n",
      "  period title\n",
      "0     1년  블랙핑크\n"
     ]
    }
   ],
   "source": [
    "sent = \"1년간 올라온 블랙핑크 영상 찾아줘\"\n",
    "#전처리 객체 생성\n",
    "p = Preprocess_text(userdic='user_dic.tsv')\n",
    "# 형태소 분석기 실행\n",
    "pos = p.pos(sent)\n",
    "\n",
    "# 품사 태그와 같이 키워드 출력\n",
    "ret = p.get_keywords(pos, without_tag=False)\n",
    "print(\"형태소 추출/품사태깅:\",ret)\n",
    "\n",
    "#기간 키워드 추출\n",
    "duration_keywords = p.get_duration_keywords(pos)\n",
    "#주제 키워드 추출\n",
    "title_keywords = p.get_title_keywords(pos,stopdic='stopwords.txt',duration_keywords=duration_keywords)\n",
    "\n",
    "#추출한 키워드 df생성\n",
    "for keyword in title_keywords:\n",
    "    title_keywords_all=' '.join(title_keywords)\n",
    "\n",
    "df = pd.DataFrame({'period': [duration_keywords], \\\n",
    "        'title': title_keywords_all})\n",
    "print(df)\n"
   ]
  },
  {
   "cell_type": "code",
   "execution_count": null,
   "id": "655249d2",
   "metadata": {},
   "outputs": [],
   "source": []
  }
 ],
 "metadata": {
  "kernelspec": {
   "display_name": "Python 3 (ipykernel)",
   "language": "python",
   "name": "python3"
  },
  "language_info": {
   "codemirror_mode": {
    "name": "ipython",
    "version": 3
   },
   "file_extension": ".py",
   "mimetype": "text/x-python",
   "name": "python",
   "nbconvert_exporter": "python",
   "pygments_lexer": "ipython3",
   "version": "3.8.16"
  }
 },
 "nbformat": 4,
 "nbformat_minor": 5
}
